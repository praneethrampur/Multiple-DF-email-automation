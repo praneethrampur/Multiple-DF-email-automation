{
 "cells": [
  {
   "cell_type": "code",
   "execution_count": 1,
   "metadata": {},
   "outputs": [],
   "source": [
    "import pandas as pd\n",
    "import csv\n",
    "from tabulate import tabulate\n",
    "from email.mime.multipart import MIMEMultipart\n",
    "from email.mime.text import MIMEText\n",
    "import smtplib"
   ]
  },
  {
   "cell_type": "code",
   "execution_count": 2,
   "metadata": {},
   "outputs": [],
   "source": [
    "df_edit=pd.read_csv(\"C:\\\\Users\\\\Praneeth\\\\Downloads\\\\iii\\\\hi.csv\")\n",
    "\n",
    "df_pune=df_edit.loc[df_edit[\"field_order_location_value\"]==\"Pune\"]\n",
    "\n",
    "df_kompally=df_edit.loc[df_edit[\"field_order_location_value\"]==\"Kompally\"]\n",
    "\n",
    "df_all= df_edit.loc[df_edit[\"field_order_location_value\"]==\"All\"]\n"
   ]
  },
  {
   "cell_type": "code",
   "execution_count": 3,
   "metadata": {},
   "outputs": [],
   "source": [
    "sender = \"sandlust123@gmail.com\"\n",
    "receiver = ['rampurpraneeth.16@gmail.com',\"praneeth.immortal16@gmail.com\"]\n",
    "msg = MIMEMultipart('related')\n",
    "\n",
    "msg['Subject'] = \"Subject Here\"\n",
    "msg['From'] = sender\n",
    "msg['To'] = \", \".join(receiver)\n",
    "html = \"\"\"\\\n",
    "<html>\n",
    "  <head></head>\n",
    "  <body>\n",
    "    <p>Hi!<br>\n",
    "       Here is pune Data Frame data:<br>\n",
    "       {0}\n",
    "       <br>Here is kompally Data Frame data:<br>\n",
    "       {1}\n",
    "       <br>Here is all Data Frame data:<br>\n",
    "       {2}2\n",
    "       \n",
    "\n",
    "       Regards,\n",
    "    </p>\n",
    "  </body>\n",
    "</html>\n",
    "\n",
    "\"\"\".format(df_pune.to_html(), df_kompally.to_html(),df_all.to_html())\n",
    "\n",
    "partHTML = MIMEText(html, 'html')\n"
   ]
  },
  {
   "cell_type": "code",
   "execution_count": 4,
   "metadata": {},
   "outputs": [
    {
     "data": {
      "text/plain": [
       "<email.mime.text.MIMEText at 0x1a636639460>"
      ]
     },
     "execution_count": 4,
     "metadata": {},
     "output_type": "execute_result"
    }
   ],
   "source": [
    "partHTML"
   ]
  },
  {
   "cell_type": "code",
   "execution_count": 5,
   "metadata": {},
   "outputs": [
    {
     "data": {
      "text/plain": [
       "(221, b'2.0.0 closing connection e3sm10037285pfi.189 - gsmtp')"
      ]
     },
     "execution_count": 5,
     "metadata": {},
     "output_type": "execute_result"
    }
   ],
   "source": [
    "msg.attach(partHTML)\n",
    "# ser = smtplib.SMTP('smtp.gmail.com', 587)\n",
    "# ser.login(\"sandlust123@gmail.com\", 9440335123)\n",
    "# ser.sendmail(sender, receiver, msg.as_string())\n",
    "\n",
    "server = 'smtp.gmail.com:587'\n",
    "\n",
    "s = smtplib.SMTP(server)\n",
    "s.ehlo()\n",
    "s.starttls()\n",
    "s.ehlo()\n",
    "s.login(\"sandlust123@gmail.com\",\"9440335123\")\n",
    "s.sendmail(sender,receiver,msg.as_string())\n",
    "s.quit()"
   ]
  },
  {
   "cell_type": "code",
   "execution_count": 6,
   "metadata": {},
   "outputs": [],
   "source": [
    "# server = 'smtp.gmail.com:587'\n",
    "\n",
    "# s = smtplib.SMTP(server)\n",
    "# s.ehlo()\n",
    "# s.starttls()\n",
    "# s.ehlo()\n",
    "# s.login(qfrom,\"9440335123\")\n",
    "# s.sendmail(qfrom,qto+qcc,msg.as_string())\n",
    "# s.quit()"
   ]
  },
  {
   "cell_type": "code",
   "execution_count": null,
   "metadata": {},
   "outputs": [],
   "source": []
  }
 ],
 "metadata": {
  "kernelspec": {
   "display_name": "Python 3",
   "language": "python",
   "name": "python3"
  },
  "language_info": {
   "codemirror_mode": {
    "name": "ipython",
    "version": 3
   },
   "file_extension": ".py",
   "mimetype": "text/x-python",
   "name": "python",
   "nbconvert_exporter": "python",
   "pygments_lexer": "ipython3",
   "version": "3.8.3"
  }
 },
 "nbformat": 4,
 "nbformat_minor": 4
}
