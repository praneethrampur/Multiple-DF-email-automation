{
 "cells": [
  {
   "cell_type": "code",
   "execution_count": 1,
   "metadata": {},
   "outputs": [],
   "source": [
    "import pandas as pd\n",
    "import csv\n",
    "from tabulate import tabulate\n",
    "from email.mime.multipart import MIMEMultipart\n",
    "from email.mime.text import MIMEText\n",
    "import smtplib"
   ]
  },
  {
   "cell_type": "code",
   "execution_count": 2,
   "metadata": {},
   "outputs": [],
   "source": [
    "df_edit=pd.read_csv(\"C:\\\\Users\\\\Praneeth\\\\Downloads\\\\iii\\\\hi.csv\")\n",
    "\n",
    "df_pune=df_edit.loc[df_edit[\"field_order_location_value\"]==\"Pune\"]\n",
    "\n",
    "df_kompally=df_edit.loc[df_edit[\"field_order_location_value\"]==\"Kompally\"]\n",
    "\n",
    "df_all= df_edit.loc[df_edit[\"field_order_location_value\"]==\"All\"]\n"
   ]
  },
  {
   "cell_type": "code",
   "execution_count": 3,
   "metadata": {},
   "outputs": [],
   "source": [
    "sender = \"sandlust123@gmail.com\"\n",
    "receiver = ['rampurpraneeth.16@gmail.com',\"praneeth.immortal16@gmail.com\"]\n",
    "msg = MIMEMultipart('related')\n",
    "\n",
    "msg['Subject'] = \"Subject Here\"\n",
    "msg['From'] = sender\n",
    "msg['To'] = \", \".join(receiver)\n",
    "html = \"\"\"\\\n",
    "<html>\n",
    "  <head></head>\n",
    "  <body>\n",
    "    <p>Hi!<br>\n",
    "       Here is pune Data Frame data:<br>\n",
    "       {0}\n",
    "       <br>Here is kompally Data Frame data:<br>\n",
    "       {1}\n",
    "       <br>Here is all Data Frame data:<br>\n",
    "       {2}2\n",
    "       \n",
    "\n",
    "       Regards,\n",
    "    </p>\n",
    "  </body>\n",
    "</html>\n",
    "\n",
    "\"\"\".format(df_pune.to_html(), df_kompally.to_html(),df_all.to_html())\n",
    "\n",
    "partHTML = MIMEText(html, 'html')\n"
   ]
  },
  {
   "cell_type": "code",
   "execution_count": 4,
   "metadata": {},
   "outputs": [
    {
     "data": {
      "text/plain": [
       "<email.mime.text.MIMEText at 0x29ecbc76400>"
      ]
     },
     "execution_count": 4,
     "metadata": {},
     "output_type": "execute_result"
    }
   ],
   "source": [
    "partHTML"
   ]
  },
  {
   "cell_type": "code",
   "execution_count": 5,
   "metadata": {},
   "outputs": [
    {
     "data": {
      "text/plain": [
       "(221, b'2.0.0 closing connection g16sm10482501pfj.19 - gsmtp')"
      ]
     },
     "execution_count": 5,
     "metadata": {},
     "output_type": "execute_result"
    }
   ],
   "source": [
    "msg.attach(partHTML)\n",
    "# ser = smtplib.SMTP('smtp.gmail.com', 587)\n",
    "# ser.login(\"sandlust123@gmail.com\", 9440335123)\n",
    "# ser.sendmail(sender, receiver, msg.as_string())\n",
    "\n",
    "server = 'smtp.gmail.com:587'\n",
    "\n",
    "s = smtplib.SMTP(server)\n",
    "s.ehlo()\n",
    "s.starttls()\n",
    "s.ehlo()\n",
    "s.login(\"sandlust123@gmail.com\",\"9440335123\")\n",
    "s.sendmail(sender,receiver,msg.as_string())\n",
    "s.quit()"
   ]
  },
  {
   "cell_type": "code",
   "execution_count": 6,
   "metadata": {},
   "outputs": [
    {
     "ename": "NameError",
     "evalue": "name 'qfrom' is not defined",
     "output_type": "error",
     "traceback": [
      "\u001b[1;31m---------------------------------------------------------------------------\u001b[0m",
      "\u001b[1;31mNameError\u001b[0m                                 Traceback (most recent call last)",
      "\u001b[1;32m<ipython-input-6-5b0a5e698181>\u001b[0m in \u001b[0;36m<module>\u001b[1;34m\u001b[0m\n\u001b[0;32m      5\u001b[0m \u001b[0ms\u001b[0m\u001b[1;33m.\u001b[0m\u001b[0mstarttls\u001b[0m\u001b[1;33m(\u001b[0m\u001b[1;33m)\u001b[0m\u001b[1;33m\u001b[0m\u001b[1;33m\u001b[0m\u001b[0m\n\u001b[0;32m      6\u001b[0m \u001b[0ms\u001b[0m\u001b[1;33m.\u001b[0m\u001b[0mehlo\u001b[0m\u001b[1;33m(\u001b[0m\u001b[1;33m)\u001b[0m\u001b[1;33m\u001b[0m\u001b[1;33m\u001b[0m\u001b[0m\n\u001b[1;32m----> 7\u001b[1;33m \u001b[0ms\u001b[0m\u001b[1;33m.\u001b[0m\u001b[0mlogin\u001b[0m\u001b[1;33m(\u001b[0m\u001b[0mqfrom\u001b[0m\u001b[1;33m,\u001b[0m\u001b[1;34m\"9440335123\"\u001b[0m\u001b[1;33m)\u001b[0m\u001b[1;33m\u001b[0m\u001b[1;33m\u001b[0m\u001b[0m\n\u001b[0m\u001b[0;32m      8\u001b[0m \u001b[0ms\u001b[0m\u001b[1;33m.\u001b[0m\u001b[0msendmail\u001b[0m\u001b[1;33m(\u001b[0m\u001b[0mqfrom\u001b[0m\u001b[1;33m,\u001b[0m\u001b[0mqto\u001b[0m\u001b[1;33m+\u001b[0m\u001b[0mqcc\u001b[0m\u001b[1;33m,\u001b[0m\u001b[0mmsg\u001b[0m\u001b[1;33m.\u001b[0m\u001b[0mas_string\u001b[0m\u001b[1;33m(\u001b[0m\u001b[1;33m)\u001b[0m\u001b[1;33m)\u001b[0m\u001b[1;33m\u001b[0m\u001b[1;33m\u001b[0m\u001b[0m\n\u001b[0;32m      9\u001b[0m \u001b[0ms\u001b[0m\u001b[1;33m.\u001b[0m\u001b[0mquit\u001b[0m\u001b[1;33m(\u001b[0m\u001b[1;33m)\u001b[0m\u001b[1;33m\u001b[0m\u001b[1;33m\u001b[0m\u001b[0m\n",
      "\u001b[1;31mNameError\u001b[0m: name 'qfrom' is not defined"
     ]
    }
   ],
   "source": [
    "server = 'smtp.gmail.com:587'\n",
    "\n",
    "s = smtplib.SMTP(server)\n",
    "s.ehlo()\n",
    "s.starttls()\n",
    "s.ehlo()\n",
    "s.login(qfrom,\"9440335123\")\n",
    "s.sendmail(qfrom,qto+qcc,msg.as_string())\n",
    "s.quit()"
   ]
  },
  {
   "cell_type": "code",
   "execution_count": null,
   "metadata": {},
   "outputs": [],
   "source": []
  },
  {
   "cell_type": "code",
   "execution_count": 6,
   "metadata": {},
   "outputs": [
    {
     "name": "stdout",
     "output_type": "stream",
     "text": [
      "bbabbabb\n"
     ]
    }
   ],
   "source": [
    "def generateString(A, B):\n",
    " \n",
    "    rt = \"\"\n",
    "    while (0 < A or 0 < B) :\n",
    " \n",
    "        # More 'b', append \"bba\"\n",
    "        if (A < B) :\n",
    "            if (0 < B):\n",
    "                rt = rt +'b'\n",
    "                B -= 1\n",
    "            if (0 < B):\n",
    "                rt += 'b'\n",
    "                B -= 1\n",
    "            if (0 < A):\n",
    "                rt += 'a'\n",
    "                A -= 1\n",
    " \n",
    "        # More 'a', append \"aab\"\n",
    "        elif (B < A):\n",
    "            if (0 < A):\n",
    "                rt += 'a'\n",
    "                A -= 1\n",
    "            if (0 < A):\n",
    "                rt += 'a'\n",
    "                A -= 1\n",
    "            if (0 < B):\n",
    "                rt += 'b'\n",
    "                B -= 1\n",
    " \n",
    "        # Equal number of 'a' and 'b'\n",
    "        # append \"ab\"\n",
    "        else :\n",
    "            if (0 < A):\n",
    "                rt += 'a'\n",
    "                A -= 1\n",
    "            if (0 < B):\n",
    "                rt += 'b'\n",
    "                B -= 1\n",
    "    print(rt)\n",
    " \n",
    "\n",
    "if __name__ == \"__main__\":\n",
    "     \n",
    "    A = 2\n",
    "    B = 6\n",
    "    generateString(A, B)"
   ]
  },
  {
   "cell_type": "code",
   "execution_count": 7,
   "metadata": {},
   "outputs": [],
   "source": [
    "import sys\n",
    " \n",
    "# Function to return the minimum cost\n",
    "# to reach the last index\n",
    "def FindMinimumCost(ind, a, n, k, dp):\n",
    "     \n",
    "    # If we reach the last index\n",
    "    if (ind == (n - 1)):\n",
    "        return 0\n",
    " \n",
    "    # Already visited state\n",
    "    elif (dp[ind] != -1):\n",
    "        return dp[ind]\n",
    "    else:\n",
    "         \n",
    "        # Initially maximum\n",
    "        ans = sys.maxsize\n",
    " \n",
    "        # Visit all possible reachable index\n",
    "        for i in range(1, k + 1):\n",
    "             \n",
    "            # If inside range\n",
    "            if (ind + i < n):\n",
    "                ans = min(ans, abs(a[ind + i] - a[ind]) +\n",
    "                      FindMinimumCost(ind + i, a, n, k, dp))\n",
    " \n",
    "            # We cannot move any further\n",
    "            else:\n",
    "                break\n",
    " \n",
    "        # Memoize\n",
    "        dp[ind] = ans\n",
    "        return ans"
   ]
  },
  {
   "cell_type": "code",
   "execution_count": 8,
   "metadata": {},
   "outputs": [
    {
     "ename": "SyntaxError",
     "evalue": "invalid syntax (<ipython-input-8-9caa037c801b>, line 1)",
     "output_type": "error",
     "traceback": [
      "\u001b[1;36m  File \u001b[1;32m\"<ipython-input-8-9caa037c801b>\"\u001b[1;36m, line \u001b[1;32m1\u001b[0m\n\u001b[1;33m    int Dp[N]={0};\u001b[0m\n\u001b[1;37m        ^\u001b[0m\n\u001b[1;31mSyntaxError\u001b[0m\u001b[1;31m:\u001b[0m invalid syntax\n"
     ]
    }
   ],
   "source": [
    "int Dp[N]={0};\n",
    "Dp[0]=element[0]; //initial condition\n",
    "least_path(cur,*elements,N)\n",
    "{\n",
    "   if(cur>N-1 || cur<0)\n",
    "     return INT_MAX;\n",
    "  if(Dp[cur])\n",
    "   return Dp[cur];\n",
    "  int temp1=least_path(cur-2,*elements,N)+element[cur];\n",
    "  int temp2=least_path(cur+1,*elements,N)+element[cur];\n",
    "  Dp[cur]=min(temp1,temp2);\n",
    "  return Dp[cur];\n",
    "}"
   ]
  },
  {
   "cell_type": "code",
   "execution_count": 12,
   "metadata": {},
   "outputs": [
    {
     "ename": "NameError",
     "evalue": "name 'startIndex' is not defined",
     "output_type": "error",
     "traceback": [
      "\u001b[1;31m---------------------------------------------------------------------------\u001b[0m",
      "\u001b[1;31mNameError\u001b[0m                                 Traceback (most recent call last)",
      "\u001b[1;32m<ipython-input-12-5a45d3a581a1>\u001b[0m in \u001b[0;36m<module>\u001b[1;34m\u001b[0m\n\u001b[0;32m      4\u001b[0m \u001b[1;33m\u001b[0m\u001b[0m\n\u001b[0;32m      5\u001b[0m \u001b[0mcosts\u001b[0m \u001b[1;33m=\u001b[0m \u001b[1;33m[\u001b[0m\u001b[0mmath\u001b[0m\u001b[1;33m.\u001b[0m\u001b[0minf\u001b[0m\u001b[1;33m]\u001b[0m \u001b[1;33m*\u001b[0m \u001b[0mlen\u001b[0m\u001b[1;33m(\u001b[0m\u001b[0mA\u001b[0m\u001b[1;33m)\u001b[0m\u001b[1;33m\u001b[0m\u001b[1;33m\u001b[0m\u001b[0m\n\u001b[1;32m----> 6\u001b[1;33m \u001b[0mcosts\u001b[0m\u001b[1;33m[\u001b[0m\u001b[0mstartIndex\u001b[0m\u001b[1;33m]\u001b[0m \u001b[1;33m=\u001b[0m \u001b[0mA\u001b[0m\u001b[1;33m[\u001b[0m\u001b[0mstartIndex\u001b[0m\u001b[1;33m]\u001b[0m\u001b[1;33m\u001b[0m\u001b[1;33m\u001b[0m\u001b[0m\n\u001b[0m\u001b[0;32m      7\u001b[0m \u001b[0mcosts\u001b[0m\u001b[1;33m[\u001b[0m\u001b[0mstartIndex\u001b[0m\u001b[1;33m+\u001b[0m\u001b[1;36m1\u001b[0m\u001b[1;33m]\u001b[0m \u001b[1;33m=\u001b[0m \u001b[0mA\u001b[0m\u001b[1;33m[\u001b[0m\u001b[0mstartIndex\u001b[0m\u001b[1;33m]\u001b[0m \u001b[1;33m+\u001b[0m \u001b[0mA\u001b[0m\u001b[1;33m[\u001b[0m\u001b[0mstartIndex\u001b[0m\u001b[1;33m+\u001b[0m\u001b[1;36m1\u001b[0m\u001b[1;33m]\u001b[0m \u001b[1;33m+\u001b[0m \u001b[0mmin\u001b[0m\u001b[1;33m(\u001b[0m\u001b[0mA\u001b[0m\u001b[1;33m[\u001b[0m\u001b[0mstartIndex\u001b[0m\u001b[1;33m+\u001b[0m\u001b[1;36m1\u001b[0m\u001b[1;33m]\u001b[0m\u001b[1;33m,\u001b[0m \u001b[0mA\u001b[0m\u001b[1;33m[\u001b[0m\u001b[0mstartIndex\u001b[0m\u001b[1;33m-\u001b[0m\u001b[1;36m1\u001b[0m\u001b[1;33m]\u001b[0m \u001b[1;32mif\u001b[0m \u001b[0mstartIndex\u001b[0m \u001b[1;33m>=\u001b[0m\u001b[1;36m0\u001b[0m \u001b[1;32melse\u001b[0m \u001b[0mA\u001b[0m\u001b[1;33m[\u001b[0m\u001b[0mstartIndex\u001b[0m\u001b[1;33m+\u001b[0m\u001b[1;36m1\u001b[0m\u001b[1;33m]\u001b[0m\u001b[1;33m)\u001b[0m\u001b[1;33m\u001b[0m\u001b[1;33m\u001b[0m\u001b[0m\n\u001b[0;32m      8\u001b[0m \u001b[1;33m\u001b[0m\u001b[0m\n",
      "\u001b[1;31mNameError\u001b[0m: name 'startIndex' is not defined"
     ]
    }
   ],
   "source": [
    "import math\n",
    "\n",
    "A=[1,2,3,4,5]\n",
    "\n",
    "costs = [math.inf] * len(A)\n",
    "costs[startIndex] = A[startIndex]   \n",
    "costs[startIndex+1] = A[startIndex] + A[startIndex+1] + min(A[startIndex+1], A[startIndex-1] if startIndex >=0 else A[startIndex+1])\n",
    "\n",
    "N = len(A)\n",
    "for i in range(startIndex, N):\n",
    "    if i+1 < N:\n",
    "        costs[i] = min(costs[i], costs[i+1] + A[i])\n",
    "    if i + 2 < N:                 \n",
    "        costs[i+2] = costs[i] + A[i+2]\n",
    "\n",
    "print(min(costs[-1], costs[-2]))"
   ]
  },
  {
   "cell_type": "code",
   "execution_count": 13,
   "metadata": {},
   "outputs": [
    {
     "name": "stdout",
     "output_type": "stream",
     "text": [
      "12\n"
     ]
    }
   ],
   "source": [
    "from heapq import heappush, heappop\n",
    "class Solution:\n",
    "   def solve(self, nums, k):\n",
    "      ans = 0\n",
    "      h = []\n",
    "      for i in range(len(nums)):\n",
    "         val = 0\n",
    "         while h:\n",
    "            val, index = h[0]\n",
    "            if index >= i - k:\n",
    "               break\n",
    "            else:\n",
    "               heappop(h)\n",
    "         ans = nums[i] + val\n",
    "         heappush(h, (ans, i))\n",
    "      return ans\n",
    "\n",
    "ob = Solution()\n",
    "nums = [2, 3, 4, 5, 6]\n",
    "k = 2\n",
    "print(ob.solve(nums, k))"
   ]
  },
  {
   "cell_type": "code",
   "execution_count": null,
   "metadata": {},
   "outputs": [],
   "source": []
  },
  {
   "cell_type": "code",
   "execution_count": 61,
   "metadata": {},
   "outputs": [],
   "source": [
    "df1 = pd.Series([2, 4, 8, 10, 12])\n",
    "df2 = pd.Series([8, 12, 10, 15, 16])"
   ]
  },
  {
   "cell_type": "code",
   "execution_count": 69,
   "metadata": {},
   "outputs": [],
   "source": [
    "x=set(df1)\n",
    "y=set(df2)\n",
    "\n",
    "z=x.symmetric_difference(y)\n",
    "\n",
    "z=list(z)\n",
    "\n",
    "z=pd.Series(z)"
   ]
  },
  {
   "cell_type": "code",
   "execution_count": 70,
   "metadata": {},
   "outputs": [
    {
     "data": {
      "text/plain": [
       "0    16\n",
       "1     2\n",
       "2     4\n",
       "3    15\n",
       "dtype: int64"
      ]
     },
     "execution_count": 70,
     "metadata": {},
     "output_type": "execute_result"
    }
   ],
   "source": [
    "z"
   ]
  },
  {
   "cell_type": "code",
   "execution_count": 38,
   "metadata": {},
   "outputs": [
    {
     "name": "stdout",
     "output_type": "stream",
     "text": [
      "2\n",
      "4\n",
      "8\n",
      "10\n",
      "12\n"
     ]
    }
   ],
   "source": [
    "for ele in df1:\n",
    "    if ele==c:\n",
    "        print(\"hi\")\n",
    "    else:\n",
    "        print(ele)"
   ]
  },
  {
   "cell_type": "code",
   "execution_count": 35,
   "metadata": {},
   "outputs": [
    {
     "data": {
      "text/plain": [
       "{8, 10, 12, 15, 16}"
      ]
     },
     "execution_count": 35,
     "metadata": {},
     "output_type": "execute_result"
    }
   ],
   "source": [
    "c"
   ]
  },
  {
   "cell_type": "code",
   "execution_count": 80,
   "metadata": {},
   "outputs": [
    {
     "name": "stdout",
     "output_type": "stream",
     "text": [
      "enter 0\n"
     ]
    }
   ],
   "source": [
    "try:\n",
    "    a=100/0\n",
    "    print(a)\n",
    "except:\n",
    "    print(\"enter 0\")"
   ]
  },
  {
   "cell_type": "code",
   "execution_count": 92,
   "metadata": {},
   "outputs": [
    {
     "name": "stdout",
     "output_type": "stream",
     "text": [
      "enter any number :5\n",
      "<class 'int'>\n"
     ]
    }
   ],
   "source": [
    "val=input(\"enter any number :\")\n",
    "val=int(val)\n",
    "print(type(val))"
   ]
  },
  {
   "cell_type": "code",
   "execution_count": 96,
   "metadata": {},
   "outputs": [
    {
     "name": "stdout",
     "output_type": "stream",
     "text": [
      "enter any number :4\n",
      "ZeroDivisionError: division by zero\n"
     ]
    }
   ],
   "source": [
    "try:\n",
    "    val=input(\"enter any number :\")\n",
    "    val=int(val)\n",
    "\n",
    "    val/0\n",
    "except:\n",
    "    print(\"ZeroDivisionError: division by zero\")"
   ]
  },
  {
   "cell_type": "code",
   "execution_count": 97,
   "metadata": {},
   "outputs": [],
   "source": [
    "nested_lst = [{\"book\": \"orange\"}, {\"pen\": \"red\"}, {\"paper\": \"blue\"}]"
   ]
  },
  {
   "cell_type": "code",
   "execution_count": 113,
   "metadata": {},
   "outputs": [
    {
     "name": "stdout",
     "output_type": "stream",
     "text": [
      "dict_values(['orange'])\n"
     ]
    }
   ],
   "source": [
    "a=nested_lst[0]\n",
    "dict(a)\n",
    "print(a.values())"
   ]
  },
  {
   "cell_type": "code",
   "execution_count": 150,
   "metadata": {},
   "outputs": [
    {
     "data": {
      "text/plain": [
       "'o'"
      ]
     },
     "execution_count": 150,
     "metadata": {},
     "output_type": "execute_result"
    }
   ],
   "source": [
    "s=\"hello\"\n",
    "s[-1]\n"
   ]
  },
  {
   "cell_type": "code",
   "execution_count": 159,
   "metadata": {},
   "outputs": [
    {
     "name": "stdout",
     "output_type": "stream",
     "text": [
      "olleh\n"
     ]
    }
   ],
   "source": [
    "print(s[::-1])"
   ]
  },
  {
   "cell_type": "code",
   "execution_count": 173,
   "metadata": {},
   "outputs": [
    {
     "name": "stdout",
     "output_type": "stream",
     "text": [
      "True\n"
     ]
    }
   ],
   "source": [
    "def evens(x):\n",
    "    if x%2==0:\n",
    "        print(\"True\")\n",
    "    else:\n",
    "        print(\"False\")\n",
    "\n",
    "evens(2)   "
   ]
  },
  {
   "cell_type": "code",
   "execution_count": 171,
   "metadata": {},
   "outputs": [
    {
     "name": "stdout",
     "output_type": "stream",
     "text": [
      "True\n"
     ]
    }
   ],
   "source": [
    "if 2%2==0:\n",
    "    print(\"True\")\n",
    "else:\n",
    "    print(\"False\")\n"
   ]
  },
  {
   "cell_type": "code",
   "execution_count": 174,
   "metadata": {},
   "outputs": [
    {
     "data": {
      "text/plain": [
       "0"
      ]
     },
     "execution_count": 174,
     "metadata": {},
     "output_type": "execute_result"
    }
   ],
   "source": [
    "2%2"
   ]
  },
  {
   "cell_type": "code",
   "execution_count": 175,
   "metadata": {},
   "outputs": [],
   "source": [
    "nested_lst = [[1, 2, 3], [4,5,6], [7,8,9]]"
   ]
  },
  {
   "cell_type": "code",
   "execution_count": 185,
   "metadata": {},
   "outputs": [
    {
     "name": "stdout",
     "output_type": "stream",
     "text": [
      "5\n"
     ]
    }
   ],
   "source": [
    "for i in nested_lst:\n",
    "    for j in i:\n",
    "        \n",
    "        \n",
    "        if j==5:\n",
    "            print(j)"
   ]
  },
  {
   "cell_type": "code",
   "execution_count": null,
   "metadata": {},
   "outputs": [],
   "source": []
  }
 ],
 "metadata": {
  "kernelspec": {
   "display_name": "Python 3",
   "language": "python",
   "name": "python3"
  },
  "language_info": {
   "codemirror_mode": {
    "name": "ipython",
    "version": 3
   },
   "file_extension": ".py",
   "mimetype": "text/x-python",
   "name": "python",
   "nbconvert_exporter": "python",
   "pygments_lexer": "ipython3",
   "version": "3.8.3"
  }
 },
 "nbformat": 4,
 "nbformat_minor": 4
}
